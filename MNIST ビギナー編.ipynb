{
 "cells": [
  {
   "cell_type": "markdown",
   "metadata": {},
   "source": [
    "# MNIST ビギナー編\n",
    "## 参考ページ\n",
    "- [Hello, World!的なMNIST ビギナー編](https://qiita.com/tawago/items/c977c79b76c5979874e8#3-hello-world%E7%9A%84%E3%81%AAmnist-%E3%83%93%E3%82%AE%E3%83%8A%E3%83%BC%E7%B7%A8)\n",
    "- [公式](https://www.tensorflow.org/tutorials/)\n",
    "アドレス変わってるっぽいので上のページの解説とちょっとちがうかも"
   ]
  },
  {
   "cell_type": "code",
   "execution_count": 1,
   "metadata": {},
   "outputs": [
    {
     "name": "stdout",
     "output_type": "stream",
     "text": [
      "Downloading data from https://storage.googleapis.com/tensorflow/tf-keras-datasets/mnist.npz\n",
      "11493376/11490434 [==============================] - 1s 0us/step\n",
      "Epoch 1/5\n",
      "60000/60000 [==============================] - 20s 325us/step - loss: 0.2183 - acc: 0.9355\n",
      "Epoch 2/5\n",
      "60000/60000 [==============================] - 20s 334us/step - loss: 0.0961 - acc: 0.9702\n",
      "Epoch 3/5\n",
      "60000/60000 [==============================] - 20s 331us/step - loss: 0.0688 - acc: 0.9787\n",
      "Epoch 4/5\n",
      "60000/60000 [==============================] - 20s 331us/step - loss: 0.0530 - acc: 0.9833\n",
      "Epoch 5/5\n",
      "60000/60000 [==============================] - 32s 533us/step - loss: 0.0425 - acc: 0.9859\n",
      "10000/10000 [==============================] - 1s 90us/step\n"
     ]
    },
    {
     "data": {
      "text/plain": [
       "[0.06681862110673682, 0.9793]"
      ]
     },
     "execution_count": 1,
     "metadata": {},
     "output_type": "execute_result"
    }
   ],
   "source": [
    "import tensorflow as tf\n",
    "mnist = tf.keras.datasets.mnist\n",
    "\n",
    "(x_train, y_train),(x_test, y_test) = mnist.load_data()\n",
    "x_train, x_test = x_train / 255.0, x_test / 255.0\n",
    "\n",
    "model = tf.keras.models.Sequential([\n",
    "  tf.keras.layers.Flatten(),\n",
    "  tf.keras.layers.Dense(512, activation=tf.nn.relu),\n",
    "  tf.keras.layers.Dropout(0.2),\n",
    "  tf.keras.layers.Dense(10, activation=tf.nn.softmax)\n",
    "])\n",
    "model.compile(optimizer='adam',\n",
    "              loss='sparse_categorical_crossentropy',\n",
    "              metrics=['accuracy'])\n",
    "\n",
    "model.fit(x_train, y_train, epochs=5)\n",
    "model.evaluate(x_test, y_test)"
   ]
  }
 ],
 "metadata": {
  "kernelspec": {
   "display_name": "Python 3",
   "language": "python",
   "name": "python3"
  },
  "language_info": {
   "codemirror_mode": {
    "name": "ipython",
    "version": 3
   },
   "file_extension": ".py",
   "mimetype": "text/x-python",
   "name": "python",
   "nbconvert_exporter": "python",
   "pygments_lexer": "ipython3",
   "version": "3.6.4"
  },
  "widgets": {
   "application/vnd.jupyter.widget-state+json": {
    "state": {},
    "version_major": 2,
    "version_minor": 0
   }
  }
 },
 "nbformat": 4,
 "nbformat_minor": 2
}
