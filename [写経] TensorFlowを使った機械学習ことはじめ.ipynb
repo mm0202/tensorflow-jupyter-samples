{
 "cells": [
  {
   "cell_type": "markdown",
   "metadata": {},
   "source": [
    "# [写経] TensorFlowを使った機械学習ことはじめ\n",
    "- [TensorFlow を使った 機械学習ことはじめ (GDG京都 機械学習勉強会)](https://www.slideshare.net/ToruUenoyama/tensorflow-gdg)"
   ]
  },
  {
   "cell_type": "markdown",
   "metadata": {},
   "source": [
    "## 気まぐれおやじのこころを読む Ⅰ\n",
    "9ページ～"
   ]
  },
  {
   "cell_type": "markdown",
   "metadata": {},
   "source": [
    "## 気まぐれおやじのこころを読む Ⅱ\n",
    "35ページ～"
   ]
  },
  {
   "cell_type": "markdown",
   "metadata": {},
   "source": [
    "## 気まぐれおやじの手書き文字を慈しむ\n",
    "48ページ～\n"
   ]
  }
 ],
 "metadata": {
  "kernelspec": {
   "display_name": "Python 3",
   "language": "python",
   "name": "python3"
  },
  "language_info": {
   "codemirror_mode": {
    "name": "ipython",
    "version": 3
   },
   "file_extension": ".py",
   "mimetype": "text/x-python",
   "name": "python",
   "nbconvert_exporter": "python",
   "pygments_lexer": "ipython3",
   "version": "3.6.4"
  }
 },
 "nbformat": 4,
 "nbformat_minor": 2
}
